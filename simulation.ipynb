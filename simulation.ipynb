{
 "cells": [
  {
   "cell_type": "raw",
   "metadata": {},
   "source": [
    "Simulating 1m+ openings for the Pokemon Trading Card Game Pocket game, using the current most popular meta deck: Pikachu EX. The goal of this simulation is to answer the following questions:\n",
    "    How often is the deck able to pull off its primary game plan?\n",
    "    What is the most consistent build?"
   ]
  },
  {
   "cell_type": "raw",
   "metadata": {},
   "source": [
    "The game board is as follows:\n",
    "       []       One active slot     \n",
    "    [] [] []    Three bench slots\n",
    "\n",
    "What are the rules in play?\n",
    "You draw 5 cards at the start; at least one basic/Pikachu EX will be drawn on your first turn. You can place as many basic/Pikachu EX cards during a turn as you want. You start drawing 1 energy per turn after your first turn; you can place one energy on a basic/Pikachu EX per turn. You can attack with Pikachu EX once it gets 2 energy.\n",
    "\n",
    "What is the primary game plan of the Pikachu EX deck?\n",
    "    A. Have Pikachu EX in the active slot.\n",
    "    B. Fill your bench with as many basic/Pikachu EX cards as possible.\n",
    "    C. Attach 2 energy to Pikachu EX and attack the opponent.\n",
    "\n",
    "Caveats?\n",
    "If Pikachu EX is not drawn on turn one, your primary game plan will be delayed. An extra turn may be needed to swap a buffer basic from the active slot to a drawn Pikachu EX on one of the three bench slots."
   ]
  },
  {
   "cell_type": "code",
   "execution_count": null,
   "metadata": {
    "trusted": true
   },
   "outputs": [
    {
     "name": "stdout",
     "output_type": "stream",
     "text": [
      "['OTHER', 'PIKA_EX', 'X_SP', 'OTHER', 'BASIC', 'BASIC', 'BASIC', 'OTHER', 'P_BALL', 'P_RE', 'PIKA_EX', 'P_BALL', 'OTHER', 'OTHER', 'BASIC', 'OTHER', 'P_RE', 'X_SP', 'OTHER', 'OTHER']\n"
     ]
    }
   ],
   "source": [
    "import random\n",
    "\n",
    "deck_1 = ['PIKA_EX','PIKA_EX',\n",
    "          'BASIC','BASIC','BASIC','BASIC',\n",
    "          'P_BALL','P_BALL',\n",
    "          'P_RE','P_RE',\n",
    "          'X_SP','X_SP',\n",
    "          'OTHER','OTHER','OTHER','OTHER','OTHER','OTHER','OTHER','OTHER']\n",
    "random.shuffle(deck_1)\n",
    "\n",
    "deck_2 = ['PIKA_EX','PIKA_EX',\n",
    "          'BASIC','BASIC','BASIC','BASIC','BASIC',\n",
    "          'P_BALL','P_BALL',\n",
    "          'P_RE','P_RE',\n",
    "          'X_SP','X_SP',\n",
    "          'OTHER','OTHER','OTHER','OTHER','OTHER','OTHER','OTHER']\n",
    "random.shuffle(deck_2)\n",
    "\n",
    "deck_3 = ['PIKA_EX','PIKA_EX',\n",
    "          'BASIC','BASIC','BASIC','BASIC','BASIC','BASIC',\n",
    "          'P_BALL','P_BALL',\n",
    "          'P_RE','P_RE',\n",
    "          'X_SP','X_SP',\n",
    "          'OTHER','OTHER','OTHER','OTHER','OTHER','OTHER']\n",
    "random.shuffle(deck_3)"
   ]
  },
  {
   "cell_type": "raw",
   "metadata": {},
   "source": [
    "PIKA_EX - your primary game plan, Pikachu EX\n",
    "BASIC - cards that you need to fill your bench with\n",
    "P_BALL - use to draw one random BASIC/PIKA_EX card to hand\n",
    "P_RE - use to draw two cards at random; only one P_RE can be used per turn\n",
    "X_SP - use to make swapping a card from your bench to active slot not require energy use\n",
    "OTHER - cards which will not affect your primary game plan"
   ]
  },
  {
   "cell_type": "code",
   "execution_count": 3,
   "metadata": {
    "trusted": true
   },
   "outputs": [
    {
     "name": "stdout",
     "output_type": "stream",
     "text": [
      "Turn: 0\n",
      "Active slot:       []   \n",
      "Bench:      [None] [None] [None]\n",
      "Hand: ['OTHER', 'PIKA_EX', 'X_SP', 'OTHER', 'BASIC']\n",
      "Active slot:       []   \n",
      "Bench:      [None] [None] [None]\n",
      "Hand: ['OTHER', 'X_SP', 'OTHER', 'BASIC']\n"
     ]
    }
   ],
   "source": [
    "def display_boardstate(active_slot, bench, hand):\n",
    "    print('Active slot:       {}   '.format(active_slot))\n",
    "    print('Bench:      [{}] [{}] [{}]'.format(bench[0], bench[1], bench[2]))\n",
    "    print('Hand: {}'.format(hand))\n",
    "    \n",
    "\n",
    "def play_card(hand, deck, card):\n",
    "\n",
    "    hand = hand.remove(card)\n",
    "    return hand, deck, card\n",
    "\n",
    "#Player turn\n",
    "def conduct_turn(hand, deck, active_slot, bench, turn):\n",
    "\n",
    "    #Plays all PIKA_EX or BASIC cards available if possible, prioritizing PIKA_EX in the active slot\n",
    "    if not active_slot:\n",
    "        if 'PIKA_EX' in hand:\n",
    "            hand, deck, active_slot = play_card(hand, deck, 'PIKA_EX')\n",
    "            \n",
    "        \n",
    "\n",
    "#Game start\n",
    "def run_game(deck, starting_turn):\n",
    "\n",
    "    #Initiate board state\n",
    "    active_slot, bench = [], [None, None, None]\n",
    "    turn = starting_turn\n",
    "    \n",
    "    #Draw 5 cards, if no PIKA_EX or BASICS drawn, redraw\n",
    "    hand = deck[0:5]\n",
    "    if 'PIKA_EX' not in hand or 'BASIC' not in hand:\n",
    "        random.shuffle(deck)\n",
    "        run_game(deck)\n",
    "    deck = deck[5:]\n",
    "\n",
    "    #Conduct player first turn\n",
    "    print('Turn: {}'.format(turn))\n",
    "    display_boardstate(active_slot, bench, hand)\n",
    "    conduct_turn(hand, deck, active_slot, bench, turn)\n",
    "    display_boardstate(active_slot, bench, hand)\n",
    "    \n",
    "\n",
    "\n",
    "\n",
    "run_game(deck_1, 0)\n",
    "#run_game(deck_1, 1)"
   ]
  },
  {
   "cell_type": "code",
   "execution_count": null,
   "metadata": {
    "trusted": true
   },
   "outputs": [
    {
     "name": "stdout",
     "output_type": "stream",
     "text": [
      "Starting hand: [<Card.BASIC: 2>, <Card.P_RE: 4>, <Card.X_SP: 5>, <Card.OTHER: 6>, <Card.P_BALL: 3>, <Card.X_SP: 5>, <Card.BASIC: 2>, <Card.BASIC: 2>, <Card.BASIC: 2>, <Card.P_BALL: 3>]\n",
      "Turn 0\n",
      "Card.BASIC\n",
      "[<Card.BASIC: 2>, <Card.BASIC: 2>, <Card.BASIC: 2>]\n",
      "[<Card.P_RE: 4>, <Card.X_SP: 5>, <Card.OTHER: 6>, <Card.P_BALL: 3>, <Card.X_SP: 5>, <Card.P_BALL: 3>]\n"
     ]
    }
   ],
   "source": [
    "from enum import Enum\n",
    "from random import shuffle, randint\n",
    "\n",
    "class Card(Enum):\n",
    "    PIKA_EX = 1\n",
    "    BASIC = 2\n",
    "    P_BALL = 3\n",
    "    P_RE = 4\n",
    "    X_SP = 5\n",
    "    OTHER = 6\n",
    "\n",
    "class BoardState:\n",
    "    active_slot = []\n",
    "    bench = []\n",
    "    turn = 0\n",
    "\n",
    "class Simulation: \n",
    "    \n",
    "    #Game start: initiate hand and deck shuffled\n",
    "    def __init__(self, turn):\n",
    "        self.turn = turn\n",
    "        self.hand = []\n",
    "        self.deck = [Card.PIKA_EX] * 0 + \\\n",
    "                    [Card.P_BALL] * 2 + \\\n",
    "                    [Card.P_RE] * 2 + \\\n",
    "                    [Card.X_SP] * 2 + \\\n",
    "                    [Card.BASIC] * 4 + \\\n",
    "                    [Card.OTHER] * 8\n",
    "        shuffle(self.deck)\n",
    "\n",
    "    #Remove a card from deck and place it in your hand\n",
    "    def draw_card(self, times=1):\n",
    "        for card in range(times):\n",
    "            self.hand.append(self.deck.pop())\n",
    "\n",
    "    def do_turn(self):\n",
    "\n",
    "        #Checks turn; if turn 0 (heads flip), no card drawn + no energy; if turn 1, no energy\n",
    "        \n",
    "        #Put PIKA_EX or BASIC into the active slot if empty\n",
    "        if not BoardState.active_slot:\n",
    "            if Card.PIKA_EX in self.hand:\n",
    "                BoardState.active_slot = Card.PIKA_EX\n",
    "                self.hand.remove(Card.PIKA_EX)\n",
    "            else:\n",
    "                BoardState.active_slot = Card.BASIC\n",
    "                self.hand.remove(Card.BASIC)\n",
    "\n",
    "        #Fill the bench with PIKA_EX/BASIC up to 3\n",
    "        while len(BoardState.bench) < 3:\n",
    "            if Card.PIKA_EX in self.hand:\n",
    "                BoardState.bench.append(Card.PIKA_EX)\n",
    "                self.hand.remove(Card.PIKA_EX)\n",
    "            elif Card.BASIC in self.hand:\n",
    "                BoardState.bench.append(Card.BASIC)\n",
    "                self.hand.remove(Card.BASIC)\n",
    "            else:\n",
    "                break\n",
    "        #Add an exception where if there are no PIKA_EX's on the board, don't allow the third basic\n",
    "            \n",
    "        \n",
    "\n",
    "            \n",
    "\n",
    "\n",
    "        print(BoardState.active_slot)\n",
    "        print(BoardState.bench)\n",
    "\n",
    "        #If we started on turn 0, skip turn 1\n",
    "        if BoardState.turn == 0:\n",
    "            BoardState.turn += 1\n",
    "        BoardState.turn += 1\n",
    "\n",
    "    \n",
    "\n",
    "    def runSimulation(self):\n",
    "\n",
    "        #Draw your starting hand, if PIKA_EX or BASIC isn't drawn, redraw your hand\n",
    "        while not (Card.PIKA_EX in self.hand or Card.BASIC in self.hand):\n",
    "            self.hand = []\n",
    "            shuffle(self.deck)\n",
    "            self.draw_card(10)\n",
    "        print('Starting hand: {}'.format(self.hand)) #YOS LATER\n",
    "        print ('Turn {}'.format(self.turn))\n",
    "\n",
    "        #Conduct player turn\n",
    "        self.do_turn()\n",
    "        print(self.hand)\n",
    "\n",
    "\n",
    "        \n",
    "\n",
    "\n",
    "Simulation(0).runSimulation()"
   ]
  },
  {
   "cell_type": "code",
   "execution_count": null,
   "metadata": {
    "trusted": true
   },
   "outputs": [],
   "source": []
  },
  {
   "cell_type": "code",
   "execution_count": null,
   "metadata": {
    "trusted": true
   },
   "outputs": [],
   "source": []
  }
 ],
 "metadata": {
  "kernelspec": {
   "display_name": "Python 3",
   "language": "python",
   "name": "python3"
  },
  "language_info": {
   "codemirror_mode": {
    "name": "ipython",
    "version": 3
   },
   "file_extension": ".py",
   "mimetype": "text/x-python",
   "name": "python",
   "nbconvert_exporter": "python",
   "pygments_lexer": "ipython3",
   "version": "3.11.9"
  }
 },
 "nbformat": 4,
 "nbformat_minor": 4
}
